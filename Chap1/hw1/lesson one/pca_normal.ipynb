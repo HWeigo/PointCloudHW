{
 "cells": [
  {
   "cell_type": "code",
   "execution_count": 1,
   "metadata": {
    "collapsed": true
   },
   "outputs": [
    {
     "name": "stdout",
     "output_type": "stream",
     "text": [
      "Jupyter environment detected. Enabling Open3D WebVisualizer.\n",
      "[Open3D INFO] WebRTC GUI backend enabled.\n",
      "[Open3D INFO] WebRTCWindowSystem: HTTP handshake server disabled.\n"
     ]
    }
   ],
   "source": [
    "import numpy as np\n",
    "import open3d as o3d\n",
    "import os\n"
   ]
  },
  {
   "cell_type": "code",
   "execution_count": 2,
   "outputs": [],
   "source": [
    "# 功能：计算PCA的函数\n",
    "# 输入：\n",
    "#     data：点云，NX3的矩阵\n",
    "#     correlation：区分np的cov和corrcoef，不输入时默认为False\n",
    "#     sort: 特征值排序，排序是为了其他功能方便使用，不输入时默认为True\n",
    "# 输出：\n",
    "#     eigenvalues：特征值\n",
    "#     eigenvectors：特征向量\n",
    "def PCA(data, correlation=False, sort=True):\n",
    "    if type(data) is o3d.cpu.pybind.utility.Vector3dVector:\n",
    "        pcd = np.asarray(data)\n",
    "    else:\n",
    "        pcd = data\n",
    "\n",
    "    if pcd.ndim is not 3:\n",
    "        pcd = np.transpose(pcd)\n",
    "\n",
    "    # Normalization\n",
    "    mean = pcd.mean(axis=1, keepdims=True)\n",
    "    pcd = pcd - mean\n",
    "\n",
    "    # Implement SVD\n",
    "    H = np.dot(pcd, pcd.T)\n",
    "    u, s, vt = np.linalg.svd(H, hermitian=True)\n",
    "\n",
    "    ##or directly use SVD to decompose pcd matrix, u is the same as above\n",
    "    #u, s, vt = np.linalg.svd(pcd, hermitian=False)\n",
    "\n",
    "    eigenvalues = s\n",
    "    eigenvectors = u\n",
    "\n",
    "    return eigenvalues, eigenvectors"
   ],
   "metadata": {
    "collapsed": false,
    "pycharm": {
     "name": "#%%\n"
    }
   }
  },
  {
   "cell_type": "code",
   "execution_count": 3,
   "outputs": [],
   "source": [
    "def main():\n",
    "    # Load Point Cloud\n",
    "    cat_index = 0\n",
    "    root_dir = \"../../modelnet40_normal_resampled/\"\n",
    "    models = os.listdir(root_dir)\n",
    "    models = sorted(models)\n",
    "    filename = os.path.join(root_dir, models[cat_index], models[cat_index]+'_0001.txt')\n",
    "\n",
    "    pcd_array = np.loadtxt(filename, delimiter=',')[:,0:3]\n",
    "    pcd = o3d.geometry.PointCloud()\n",
    "    pcd.points = o3d.utility.Vector3dVector(pcd_array)\n",
    "    print(\"Number of point cloud: \", pcd_array.shape[0])\n",
    "\n",
    "    w, v = PCA(pcd.points)\n",
    "    ori_1st = v[:, 0]\n",
    "    print(\"The main orientation of point cloud:\", ori_1st)\n",
    "\n",
    "    # Draw main orientation\n",
    "    # Note 1st/2nd/3rd orientation is marked as red/green/blue\n",
    "    ori_points = [v[:,0], v[:,0]*-1, v[:,1], v[:,1]*-1, v[:,2], v[:,2]*-1]\n",
    "    ori_lines = [[0,1], [2,3], [4,5]]\n",
    "    ori_colors = [[1,0,0], [0,1,0], [0,0,1]]\n",
    "    line_set = o3d.geometry.LineSet()\n",
    "    line_set.points = o3d.utility.Vector3dVector(ori_points)\n",
    "    line_set.lines = o3d.utility.Vector2iVector(ori_lines)\n",
    "    line_set.colors = o3d.utility.Vector3dVector(ori_colors)\n",
    "\n",
    "    # Visualization\n",
    "    o3d.visualization.draw_geometries([pcd, line_set])\n",
    "\n",
    "    pcd_tree = o3d.geometry.KDTreeFlann(pcd)\n",
    "    normals = []\n",
    "    # 作业2\n",
    "    # 屏蔽开始\n",
    "    neighbor_size = 10\n",
    "    for i in range(pcd_array.shape[0]):\n",
    "        _, idx, _ = pcd_tree.search_knn_vector_3d(pcd.points[i], neighbor_size)\n",
    "        _, v = PCA(np.asarray(pcd.points)[idx, :])\n",
    "        normals.append(v[:,2])\n",
    "\n",
    "\n",
    "    # 屏蔽结束\n",
    "    normals = np.array(normals, dtype=np.float64)\n",
    "    # TODO: 此处把法向量存放在了normals中\n",
    "    pcd.normals = o3d.utility.Vector3dVector(normals)\n",
    "    o3d.visualization.draw_geometries([pcd])\n"
   ],
   "metadata": {
    "collapsed": false,
    "pycharm": {
     "name": "#%%\n"
    }
   }
  },
  {
   "cell_type": "code",
   "execution_count": null,
   "outputs": [
    {
     "name": "stdout",
     "output_type": "stream",
     "text": [
      "Number of point cloud:  10000\n",
      "The main orientation of point cloud: [-0.9990599  -0.00894016 -0.04241916]\n"
     ]
    }
   ],
   "source": [
    "if __name__ == '__main__':\n",
    "    main()"
   ],
   "metadata": {
    "collapsed": false,
    "pycharm": {
     "name": "#%%\n",
     "is_executing": true
    }
   }
  },
  {
   "cell_type": "code",
   "execution_count": null,
   "outputs": [],
   "source": [],
   "metadata": {
    "collapsed": false,
    "pycharm": {
     "name": "#%%\n",
     "is_executing": true
    }
   }
  }
 ],
 "metadata": {
  "kernelspec": {
   "display_name": "Python 3",
   "language": "python",
   "name": "python3"
  },
  "language_info": {
   "codemirror_mode": {
    "name": "ipython",
    "version": 2
   },
   "file_extension": ".py",
   "mimetype": "text/x-python",
   "name": "python",
   "nbconvert_exporter": "python",
   "pygments_lexer": "ipython2",
   "version": "2.7.6"
  }
 },
 "nbformat": 4,
 "nbformat_minor": 0
}