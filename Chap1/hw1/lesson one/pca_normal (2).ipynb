{
 "cells": [
  {
   "cell_type": "code",
   "execution_count": 79,
   "metadata": {
    "collapsed": true
   },
   "outputs": [],
   "source": [
    "import numpy as np\n",
    "import open3d as o3d\n",
    "import os\n"
   ]
  },
  {
   "cell_type": "code",
   "execution_count": 182,
   "outputs": [],
   "source": [
    "# 功能：计算PCA的函数\n",
    "# 输入：\n",
    "#     data：点云，NX3的矩阵\n",
    "#     correlation：区分np的cov和corrcoef，不输入时默认为False\n",
    "#     sort: 特征值排序，排序是为了其他功能方便使用，不输入时默认为True\n",
    "# 输出：\n",
    "#     eigenvalues：特征值\n",
    "#     eigenvectors：特征向量\n",
    "def PCA(data, correlation=False, sort=True):\n",
    "    if type(data) is o3d.cpu.pybind.utility.Vector3dVector:\n",
    "        pcd = np.asarray(data)\n",
    "    else:\n",
    "        pcd = data\n",
    "\n",
    "    if pcd.ndim is not 3:\n",
    "        pcd = np.transpose(pcd)\n",
    "\n",
    "    # Normalization\n",
    "    mean = pcd.mean(axis=1, keepdims=True)\n",
    "    pcd = pcd - mean\n",
    "\n",
    "    # Implement SVD\n",
    "    H = np.dot(pcd, pcd.T)\n",
    "    u, s, vt = np.linalg.svd(H, hermitian=True)\n",
    "\n",
    "    ##or directly use SVD to decompose pcd matrix, u is the same as above\n",
    "    #u, s, vt = np.linalg.svd(pcd, hermitian=False)\n",
    "\n",
    "    eigenvalues = s\n",
    "    eigenvectors = u\n",
    "\n",
    "    return eigenvalues, eigenvectors"
   ],
   "metadata": {
    "collapsed": false,
    "pycharm": {
     "name": "#%%\n"
    }
   }
  },
  {
   "cell_type": "code",
   "execution_count": 187,
   "outputs": [],
   "source": [
    "def main():\n",
    "    # Load Point Cloud\n",
    "\n",
    "    cat_index = 0\n",
    "    root_dir = \"../../modelnet40_normal_resampled/\"\n",
    "    models = os.listdir(root_dir)\n",
    "    models = sorted(models)\n",
    "    filename = os.path.join(root_dir, models[cat_index], models[cat_index]+'_0003.txt')\n",
    "\n",
    "    pcd_array = np.loadtxt(filename, delimiter=',')[:,0:3]\n",
    "    pcd = o3d.geometry.PointCloud()\n",
    "    pcd.points = o3d.utility.Vector3dVector(pcd_array)\n",
    "    print(\"Number of point cloud: \", pcd_array.shape[0])\n",
    "    # o3d.visualization.draw_geometries([pcd])\n",
    "\n",
    "    w, v = PCA(pcd.points)\n",
    "    ori_1st = v[:, 0]\n",
    "    print(\"The main orientation of point cloud:\", ori_1st)\n",
    "\n",
    "    # Draw main orientation\n",
    "    ori_points = [v[:,0], v[:,0]*-1, v[:,1], v[:,1]*-1, v[:,2], v[:,2]*-1]\n",
    "    ori_lines = [[0,1], [2,3], [4,5]]\n",
    "    ori_colors = [[1,0,0], [0,1,0], [0,0,1]]\n",
    "    line_set = o3d.geometry.LineSet()\n",
    "    line_set.points = o3d.utility.Vector3dVector(ori_points)\n",
    "    line_set.lines = o3d.utility.Vector2iVector(ori_lines)\n",
    "    line_set.colors = o3d.utility.Vector3dVector(ori_colors)\n",
    "    o3d.visualization.draw_geometries([pcd, line_set])\n",
    "\n"
   ],
   "metadata": {
    "collapsed": false,
    "pycharm": {
     "name": "#%%\n"
    }
   }
  },
  {
   "cell_type": "code",
   "execution_count": 188,
   "outputs": [
    {
     "name": "stdout",
     "output_type": "stream",
     "text": [
      "Number of point cloud:  10000\n",
      "[[-0.01543   0.008391  0.9459   ... -0.2326   -0.2904   -0.5498  ]\n",
      " [-0.0246   -0.1708   -0.1507   ...  0.1774    0.1757   -0.1927  ]\n",
      " [ 0.1746   -0.9848    0.2783   ...  0.7825    0.8086    0.1587  ]]\n",
      "[[ 0.00726971]\n",
      " [-0.11642291]\n",
      " [ 0.0651886 ]]\n",
      "[[-0.02269971  0.00112129  0.93863029 ... -0.23986971 -0.29766971\n",
      "  -0.55706971]\n",
      " [ 0.09182291 -0.05437709 -0.03427709 ...  0.29382291  0.29212291\n",
      "  -0.07627709]\n",
      " [ 0.1094114  -1.0499886   0.2131114  ...  0.7173114   0.7434114\n",
      "   0.0935114 ]]\n",
      "[2121.40195328  855.13269389   93.97139286]\n",
      "The main orientation of point cloud: [5.12098057e-04 1.48079630e-01 9.88975309e-01]\n"
     ]
    }
   ],
   "source": [
    "if __name__ == '__main__':\n",
    "    main()"
   ],
   "metadata": {
    "collapsed": false,
    "pycharm": {
     "name": "#%%\n"
    }
   }
  },
  {
   "cell_type": "code",
   "execution_count": 148,
   "outputs": [],
   "source": [],
   "metadata": {
    "collapsed": false,
    "pycharm": {
     "name": "#%%\n"
    }
   }
  },
  {
   "cell_type": "code",
   "execution_count": 149,
   "outputs": [
    {
     "name": "stdout",
     "output_type": "stream",
     "text": [
      "Number of point cloud:  10000\n"
     ]
    },
    {
     "data": {
      "text/plain": "open3d.cpu.pybind.utility.Vector3dVector"
     },
     "execution_count": 149,
     "metadata": {},
     "output_type": "execute_result"
    }
   ],
   "source": [
    "cat_index = 0\n",
    "root_dir = \"../../modelnet40_normal_resampled/\"\n",
    "models = os.listdir(root_dir)\n",
    "models = sorted(models)\n",
    "filename = os.path.join(root_dir, models[cat_index], models[cat_index]+'_0047.txt')\n",
    "\n",
    "pcd_array = np.loadtxt(filename, delimiter=',')[:,0:3]\n",
    "pcd = o3d.geometry.PointCloud()\n",
    "pcd.points = o3d.utility.Vector3dVector(pcd_array)\n",
    "print(\"Number of point cloud: \", pcd_array.shape[0])\n",
    "type(pcd.points)\n",
    "# np.asarray(pcd.points)"
   ],
   "metadata": {
    "collapsed": false,
    "pycharm": {
     "name": "#%%\n"
    }
   }
  }
 ],
 "metadata": {
  "kernelspec": {
   "display_name": "Python 3",
   "language": "python",
   "name": "python3"
  },
  "language_info": {
   "codemirror_mode": {
    "name": "ipython",
    "version": 2
   },
   "file_extension": ".py",
   "mimetype": "text/x-python",
   "name": "python",
   "nbconvert_exporter": "python",
   "pygments_lexer": "ipython2",
   "version": "2.7.6"
  }
 },
 "nbformat": 4,
 "nbformat_minor": 0
}